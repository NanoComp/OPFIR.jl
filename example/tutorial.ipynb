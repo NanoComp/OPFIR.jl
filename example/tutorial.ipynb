{
 "cells": [
  {
   "cell_type": "markdown",
   "metadata": {},
   "source": [
    "# Tutorial of OPFIR package"
   ]
  },
  {
   "cell_type": "markdown",
   "metadata": {},
   "source": [
    "The OPFIR package simulates the THz OPFIR laser system, for both prolate symmetric top molecules such as CH$_3$F (currently in the master branch), and linear molecules such as N$_2$O (currently in the N2O_VV branch). \n",
    "The following disucssion focus on the N$_2$O modeling. "
   ]
  },
  {
   "cell_type": "markdown",
   "metadata": {},
   "source": [
    "In the model, first set up the parameters of the problem by \n",
    "<pre><code>\n",
    "OPFIR.N2O(...)\n",
    "</code></pre>\n",
    "There are many parameters in the setting, following lists the most important ones:\n",
    "<pre><code>\n",
    "    radius = 0.25, # in cm\n",
    "    L = 15, # in cm\n",
    "    T = 300,\n",
    "    pressure = 100.0,\n",
    "    power = 10.0,\n",
    "    ####################################\n",
    "    ## molecule setup\n",
    "    ####################################\n",
    "    M = 44,\n",
    "    σ_DD = 35,\n",
    "    σ_GKC = 50,\n",
    "    σ_SPT = 50,\n",
    "    ####################################\n",
    "    ## pump setup\n",
    "    ####################################\n",
    "    JL = 11,\n",
    "    pumpbranch = \"R\",\n",
    "    f_offset = 0.e6,\n",
    "    n_rot = 18,\n",
    "    n0 = 1.0,\n",
    "    ####################################\n",
    "    ## model/solver setup\n",
    "    ####################################\n",
    "    num_layers = 8,\n",
    "    solstart_flag = 0,\n",
    "    optcavity = false,\n",
    "    D_factor = 1.0,\n",
    "    WiU = 0,\n",
    "    WiL = 0,\n",
    "    n_vib = 1,\n",
    "    pbfactor = 1.0, # pressure broadening factor\n",
    "    qclbroadening = 0. # qcl broadening width, in Hz\n",
    "    </code></pre>\n",
    "For example,\n",
    "<pre><code>\n",
    "p = OPFIR.N2O(pressure=20, power=0.25, num_layers=6, JL=14, n_vib=10,\n",
    "              σ_DD=35, σ_GKC=15, σ_SPT=15, qclbroadening=1.e6)\n",
    "</code></pre>\n",
    "sets up a simulation with pressure 20mTorr, pump power 250mW, 6 discretization in radial direction, JL=14, including 10 vibrational levels, and a few collisional cross sections values in $A^2$."
   ]
  },
  {
   "cell_type": "markdown",
   "metadata": {},
   "source": [
    "In addition, one needs to set the cavity mode, lasing level ('U', or 'L'), mirror transmission and reflection coefficients in other places. It's better to include them in the parameter setting. I'll fix it recently."
   ]
  },
  {
   "cell_type": "markdown",
   "metadata": {},
   "source": [
    "<code>p, sol = OPFIR.func(p)</code> computes the non-thermal population in <code>sol</code> and updates absorption coefficient in <code>p.alpha_r[1]</code> self-consistently. The length of <code>sol</code> is <code>p.num_layers * p.layer_unknown + p.n_vib</code> in which <code>p.layer_unknown = p.n_rot * p.num_freq + p.n_vib</code> is the number of unknowns in one radial \"layer\". "
   ]
  },
  {
   "cell_type": "markdown",
   "metadata": {},
   "source": [
    "<code>laspower, sol, p, taus = OPFIR.outputpower(p, level, cavitymode; mumps_solver=0, lossfactor=1.0)</code> computes the output power, which calls <code>func(p)</code> to compute the population inversion. In addition, it computes the saturation time $\\tau_s$ numerically. $\\tau_s$ is the 4th output from the function. And lastly, it calculates the output power by matching gain and cavity loss. Note that the absorption coefficient of output <code>p</code> is updated.\n",
    "\n",
    "<code>mumps_solver</code> specifies different linear solver for sparse matrix, default value is 0, meaning from Julia itself.\n",
    "\n",
    "<code>lossfactor</code> is a multiplication factor for cavity loss to fit the cavity loss. So in the implementation, the real cavity loss is set as <code>lossfactor * OPFIR.cavityloss(p, level, cavitymode)</code>.\n",
    "\n",
    "Here, <code>level</code> can be either <code>'U'</code> or <code>'L'</code> for direct lasing and refilling lasing. <code>cavitymode</code> specifies the cavity mode, e.g. <code>\"TE01\"</code>. "
   ]
  },
  {
   "cell_type": "markdown",
   "metadata": {},
   "source": [
    "About cavity loss, <code>OPFIR.cavityloss(p, level, cavitymode)</code> calculates the total cavity loss, including transmission loss and ohmic loss <code>OPFIR.ohmicloss(p, level, cavitymode)</code>."
   ]
  },
  {
   "cell_type": "markdown",
   "metadata": {},
   "source": [
    "Other useful functions:\n",
    "\n",
    "<code>OPFIR.pumpthreshold(p, level, cavitymode; mumps_solver=0, lossfactor=1.0, guess=0.1)</code> computes the pump threshold power by solving <code>OPFIR.outputpower=0</code>, with options of <code>lossfactor</code>.\n",
    "\n",
    "<code>OPFIR.totinv(p, sol, level)</code> computes the spatial averaged population inversion for transition U or L with obtained population from <code>OPFIR.func</code>"
   ]
  },
  {
   "cell_type": "markdown",
   "metadata": {},
   "source": [
    "### Examples:"
   ]
  },
  {
   "cell_type": "code",
   "execution_count": null,
   "metadata": {
    "scrolled": true
   },
   "outputs": [],
   "source": [
    "using Pkg\n",
    "Pkg.activate(\"..\")\n",
    "using OPFIR"
   ]
  },
  {
   "cell_type": "code",
   "execution_count": null,
   "metadata": {},
   "outputs": [],
   "source": [
    "p = OPFIR.N2O(pressure=20, power=0.25, num_layers=6, JL=14, n_vib=10,σ_DD=35, σ_GKC=15, σ_SPT=15,qclbroadening=1.e6)\n",
    "level = \"U\"\n",
    "cavitymode = \"TE01\"\n",
    "lossfactor = 0.3/OPFIR.cavityloss(p,level,cavitymode)"
   ]
  },
  {
   "cell_type": "code",
   "execution_count": null,
   "metadata": {
    "scrolled": true
   },
   "outputs": [],
   "source": [
    "# OPFIR.pumpthreshold(p, level, cavitymode, mumps_solver=0, lossfactor=lossfactor, guess=0.04)\n",
    "laspower, sol, p, taus = OPFIR.outputpower(p, level, cavitymode; mumps_solver=0, lossfactor=1.0)"
   ]
  },
  {
   "cell_type": "code",
   "execution_count": null,
   "metadata": {
    "scrolled": true
   },
   "outputs": [],
   "source": [
    "using PyPlot\n",
    "figure(figsize=(4,3))\n",
    "THzpower = []\n",
    "for Rcell in [0.2, 0.4, 0.8]\n",
    "    THzpower = []\n",
    "    for pressure in 0.001:2:100\n",
    "        p = OPFIR.N2O(pressure=pressure, JL=26, radius=Rcell)\n",
    "        push!(THzpower, OPFIR.PTHz(0.25, p, model=\"FLM\"))\n",
    "    end\n",
    "    plot(2:2:100, 1000THzpower)\n",
    "end\n",
    "ylim(0,)\n",
    "xlim(0,)\n",
    "xlabel(\"pressure (mTorr)\")\n",
    "ylabel(\"THz power (mW)\")\n",
    "legend([L\"R_\\mathrm{cell}=2 \\mathrm{mm}\", L\"R_\\mathrm{cell}=4 \\mathrm{mm}\", L\"R_\\mathrm{cell}=8 \\mathrm{mm}\"])"
   ]
  },
  {
   "cell_type": "code",
   "execution_count": null,
   "metadata": {},
   "outputs": [],
   "source": []
  }
 ],
 "metadata": {
  "@webio": {
   "lastCommId": null,
   "lastKernelId": null
  },
  "kernelspec": {
   "display_name": "Julia 1.0 1.0.5",
   "language": "julia",
   "name": "julia-1.0-1.0"
  },
  "language_info": {
   "file_extension": ".jl",
   "mimetype": "application/julia",
   "name": "julia",
   "version": "1.0.5"
  }
 },
 "nbformat": 4,
 "nbformat_minor": 2
}
