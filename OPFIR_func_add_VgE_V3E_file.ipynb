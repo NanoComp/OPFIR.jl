{
 "cells": [
  {
   "cell_type": "markdown",
   "metadata": {},
   "source": [
    "# Rate equations for Gas Laser"
   ]
  },
  {
   "cell_type": "code",
   "execution_count": 1,
   "metadata": {
    "collapsed": false
   },
   "outputs": [
    {
     "data": {
      "text/html": [
       "<script charset=\"utf-8\">(function ($, undefined) {\n",
       "\n",
       "    function createElem(tag, attr, content) {\n",
       "\t// TODO: remove jQuery dependency\n",
       "\tvar el = $(\"<\" + tag + \"/>\").attr(attr);\n",
       "\tif (content) {\n",
       "\t    el.append(content);\n",
       "\t}\n",
       "\treturn el[0];\n",
       "    }\n",
       "\n",
       "    // A widget must expose an id field which identifies it to the backend,\n",
       "    // an elem attribute which is will be added to the DOM, and\n",
       "    // a getState() method which returns the value to be sent to the backend\n",
       "    // a sendUpdate() method which sends its current value to the backend\n",
       "    var Widget = {\n",
       "\tid: undefined,\n",
       "\telem: undefined,\n",
       "\tlabel: undefined,\n",
       "\tgetState: function () {\n",
       "\t    return this.elem.value;\n",
       "\t},\n",
       "\tsendUpdate: undefined\n",
       "    };\n",
       "\n",
       "    var Slider = function (typ, id, init) {\n",
       "\tvar attr = { type:  \"range\",\n",
       "\t\t     value: init.value,\n",
       "\t\t     min:   init.min,\n",
       "\t\t     max:   init.max,\n",
       "\t\t     step:  init.step },\n",
       "\t    elem = createElem(\"input\", attr),\n",
       "\t    self = this;\n",
       "\n",
       "\telem.onchange = function () {\n",
       "\t    self.sendUpdate();\n",
       "\t}\n",
       "\n",
       "\tthis.id = id;\n",
       "\tthis.elem = elem;\n",
       "\tthis.label = init.label;\n",
       "\n",
       "\tInputWidgets.commInitializer(this); // Initialize communication\n",
       "    }\n",
       "    Slider.prototype = Widget;\n",
       "\n",
       "    var Checkbox = function (typ, id, init) {\n",
       "\tvar attr = { type: \"checkbox\",\n",
       "\t\t     checked: init.value },\n",
       "\t    elem = createElem(\"input\", attr),\n",
       "\t    self = this;\n",
       "\n",
       "\tthis.getState = function () {\n",
       "\t    return elem.checked;\n",
       "\t}\n",
       "\telem.onchange = function () {\n",
       "\t    self.sendUpdate();\n",
       "\t}\n",
       "\n",
       "\tthis.id = id;\n",
       "\tthis.elem = elem;\n",
       "\tthis.label = init.label;\n",
       "\n",
       "\tInputWidgets.commInitializer(this);\n",
       "    }\n",
       "    Checkbox.prototype = Widget;\n",
       "\n",
       "    var Button = function (typ, id, init) {\n",
       "\tvar attr = { type:    \"button\",\n",
       "\t\t     value:   init.label },\n",
       "\t    elem = createElem(\"input\", attr),\n",
       "\t    self = this;\n",
       "\tthis.getState = function () {\n",
       "\t    return null;\n",
       "\t}\n",
       "\telem.onclick = function () {\n",
       "\t    self.sendUpdate();\n",
       "\t}\n",
       "\n",
       "\tthis.id = id;\n",
       "\tthis.elem = elem;\n",
       "\tthis.label = init.label;\n",
       "\n",
       "\tInputWidgets.commInitializer(this);\n",
       "    }\n",
       "    Button.prototype = Widget;\n",
       "\n",
       "    var Text = function (typ, id, init) {\n",
       "\tvar attr = { type:  \"text\",\n",
       "\t\t     placeholder: init.label,\n",
       "\t\t     value: init.value },\n",
       "\t    elem = createElem(\"input\", attr),\n",
       "\t    self = this;\n",
       "\tthis.getState = function () {\n",
       "\t    return elem.value;\n",
       "\t}\n",
       "\telem.onkeyup = function () {\n",
       "\t    self.sendUpdate();\n",
       "\t}\n",
       "\n",
       "\tthis.id = id;\n",
       "\tthis.elem = elem;\n",
       "\tthis.label = init.label;\n",
       "\n",
       "\tInputWidgets.commInitializer(this);\n",
       "    }\n",
       "    Text.prototype = Widget;\n",
       "\n",
       "    var Textarea = function (typ, id, init) {\n",
       "\tvar attr = { placeholder: init.label },\n",
       "\t    elem = createElem(\"textarea\", attr, init.value),\n",
       "\t    self = this;\n",
       "\tthis.getState = function () {\n",
       "\t    return elem.value;\n",
       "\t}\n",
       "\telem.onchange = function () {\n",
       "\t    self.sendUpdate();\n",
       "\t}\n",
       "\n",
       "\tthis.id = id;\n",
       "\tthis.elem = elem;\n",
       "\tthis.label = init.label;\n",
       "\n",
       "\tInputWidgets.commInitializer(this);\n",
       "    }\n",
       "    Textarea.prototype = Widget;\n",
       "\n",
       "    // RadioButtons\n",
       "    // Dropdown\n",
       "    // HTML\n",
       "    // Latex\n",
       "\n",
       "    var InputWidgets = {\n",
       "\tSlider: Slider,\n",
       "\tCheckbox: Checkbox,\n",
       "\tButton: Button,\n",
       "\tText: Text,\n",
       "\tTextarea: Textarea,\n",
       "\tdebug: false,\n",
       "\tlog: function () {\n",
       "\t    if (InputWidgets.debug) {\n",
       "\t\tconsole.log.apply(console, arguments);\n",
       "\t    }\n",
       "\t},\n",
       "\t// a central way to initalize communication\n",
       "\t// for widgets.\n",
       "\tcommInitializer: function (widget) {\n",
       "\t    widget.sendUpdate = function () {};\n",
       "\t}\n",
       "    };\n",
       "\n",
       "    window.InputWidgets = InputWidgets;\n",
       "\n",
       "})(jQuery, undefined);\n",
       "</script>"
      ]
     },
     "metadata": {},
     "output_type": "display_data"
    },
    {
     "data": {
      "text/html": [
       "<div id=\"interact-js-shim\">\n",
       "    <script charset=\"utf-8\">\n",
       "(function (IPython, $, _, MathJax, Widgets) {\n",
       "    $.event.special.destroyed = {\n",
       "\tremove: function(o) {\n",
       "\t    if (o.handler) {\n",
       "\t\to.handler.apply(this, arguments)\n",
       "\t    }\n",
       "\t}\n",
       "    }\n",
       "\n",
       "    var OutputArea = IPython.version >= \"4.0.0\" ? require(\"notebook/js/outputarea\").OutputArea : IPython.OutputArea;\n",
       "\n",
       "    var redrawValue = function (container, type, val) {\n",
       "\tvar selector = $(\"<div/>\");\n",
       "\tvar oa = new OutputArea(_.extend(selector, {\n",
       "\t    selector: selector,\n",
       "\t    prompt_area: true,\n",
       "\t    events: IPython.events,\n",
       "\t    keyboard_manager: IPython.keyboard_manager\n",
       "\t})); // Hack to work with IPython 2.1.0\n",
       "\n",
       "\tswitch (type) {\n",
       "\tcase \"image/png\":\n",
       "            var _src = 'data:' + type + ';base64,' + val;\n",
       "\t    $(container).find(\"img\").attr('src', _src);\n",
       "\t    break;\n",
       "\tdefault:\n",
       "\t    var toinsert = OutputArea.append_map[type].apply(\n",
       "\t\toa, [val, {}, selector]\n",
       "\t    );\n",
       "\t    $(container).empty().append(toinsert.contents());\n",
       "\t    selector.remove();\n",
       "\t}\n",
       "\tif (type === \"text/latex\" && MathJax) {\n",
       "\t    MathJax.Hub.Queue([\"Typeset\", MathJax.Hub, toinsert.get(0)]);\n",
       "\t}\n",
       "    }\n",
       "\n",
       "\n",
       "    $(document).ready(function() {\n",
       "\tWidgets.debug = false; // log messages etc in console.\n",
       "\tfunction initComm(evt, data) {\n",
       "\t    var comm_manager = data.kernel.comm_manager;\n",
       "        //_.extend(comm_manager.targets, require(\"widgets/js/widget\"))\n",
       "\t    comm_manager.register_target(\"Signal\", function (comm) {\n",
       "            comm.on_msg(function (msg) {\n",
       "                //Widgets.log(\"message received\", msg);\n",
       "                var val = msg.content.data.value;\n",
       "                $(\".signal-\" + comm.comm_id).each(function() {\n",
       "                var type = $(this).data(\"type\");\n",
       "                if (val[type]) {\n",
       "                    redrawValue(this, type, val[type], type);\n",
       "                }\n",
       "                });\n",
       "                delete val;\n",
       "                delete msg.content.data.value;\n",
       "            });\n",
       "\t    });\n",
       "\n",
       "\t    // coordingate with Comm and redraw Signals\n",
       "\t    // XXX: Test using Reactive here to improve performance\n",
       "\t    $([IPython.events]).on(\n",
       "\t\t'output_appended.OutputArea', function (event, type, value, md, toinsert) {\n",
       "\t\t    if (md && md.reactive) {\n",
       "                // console.log(md.comm_id);\n",
       "                toinsert.addClass(\"signal-\" + md.comm_id);\n",
       "                toinsert.data(\"type\", type);\n",
       "                // Signal back indicating the mimetype required\n",
       "                var comm_manager = IPython.notebook.kernel.comm_manager;\n",
       "                var comm = comm_manager.comms[md.comm_id];\n",
       "                comm.then(function (c) {\n",
       "                    c.send({action: \"subscribe_mime\",\n",
       "                       mime: type});\n",
       "                    toinsert.bind(\"destroyed\", function() {\n",
       "                        c.send({action: \"unsubscribe_mime\",\n",
       "                               mime: type});\n",
       "                    });\n",
       "                })\n",
       "\t\t    }\n",
       "\t    });\n",
       "\t}\n",
       "\n",
       "\ttry {\n",
       "\t    // try to initialize right away. otherwise, wait on the status_started event.\n",
       "\t    initComm(undefined, IPython.notebook);\n",
       "\t} catch (e) {\n",
       "\t    $([IPython.events]).on('kernel_created.Kernel kernel_created.Session', initComm);\n",
       "\t}\n",
       "    });\n",
       "})(IPython, jQuery, _, MathJax, InputWidgets);\n",
       "</script>\n",
       "    <script>\n",
       "        window.interactLoadedFlag = true\n",
       "       $(\"#interact-js-shim\").bind(\"destroyed\", function () {\n",
       "           if (window.interactLoadedFlag) {\n",
       "               console.warn(\"JavaScript required by Interact will be removed if you remove this cell or run using Interact more than once.\")\n",
       "           }\n",
       "       })\n",
       "       $([IPython.events]).on(\"kernel_starting.Kernel kernel_restarting.Kernel\", function () { window.interactLoadedFlag = false })\n",
       "   </script>\n",
       "</div>"
      ]
     },
     "metadata": {},
     "output_type": "display_data"
    },
    {
     "name": "stderr",
     "output_type": "stream",
     "text": [
      "WARNING: Base.FloatingPoint is deprecated, use AbstractFloat instead.\n",
      "  likely near /Users/Fan/.julia/v0.4/Interact/src/IJulia/setup.jl:153\n",
      "WARNING: Base.FloatingPoint is deprecated, use AbstractFloat instead.\n",
      "  likely near /Users/Fan/.julia/v0.4/Interact/src/IJulia/setup.jl:157\n",
      "WARNING: Union(args...) is deprecated, use Union{args...} instead.\n"
     ]
    }
   ],
   "source": [
    "using PyPlot\n",
    "using Distributions\n",
    "using Calculus\n",
    "using Cubature\n",
    "using Interact"
   ]
  },
  {
   "cell_type": "markdown",
   "metadata": {},
   "source": [
    "\n",
    "### constant parameters:"
   ]
  },
  {
   "cell_type": "code",
   "execution_count": 2,
   "metadata": {
    "collapsed": false
   },
   "outputs": [],
   "source": [
    "const radius = 0.25; # radius is in cm\n",
    "const L = 15; # cm\n",
    "\n",
    "const h = 6.626068e-34; # in Js\n",
    "const c = 3e8; # in m/s\n",
    "const ev = 1.60217646e-19; # in J\n",
    "const kB = 8.617342e-5; # in eV/K\n",
    "const T = 300; # in K\n",
    "const kBT = kB*T*8065.73; # in cm-1\n",
    "const M = 35; # molecular mass in AMU\n",
    "const norm_time = 1e6; # normalizing to microsec\n",
    "\n",
    "## The following constants can be found in p189 Henry's dissetation. \n",
    "const σ_GKC = 44; # in angstrom^2. Gas Kinetic Collision cross section.\n",
    "const σ_DD = 320; # in angstrom^2. Dipole-dipole cross section.\n",
    "const σ_SPT = 137; # in angstrom^2. SPT cross section.\n",
    "const σ_36 = 1.61; # in angstrom^2. v3->v6 cross section.\n",
    "# σ_36 is obtained by fitting the result to the experimental result.\n",
    "const σ_VS = 21; # in angstrom^2. V-swap cross section.\n",
    "\n",
    "# define kvs (bimolecular collisions); neglected firstly;\n",
    "const v = 205*sqrt(T/M); # in m/sec. p5 Henry's dissertation;\n",
    "const kvs = v*σ_VS *(1e-10)^2/norm_time; # in m^3/microsec\n",
    "# const kvs = 0;\n",
    "# oscillation energy levels:\n",
    "const EG = 0;\n",
    "const E3 = 1050;\n",
    "const E6 = 1200;\n",
    "const E23 = 2100;\n",
    "const E36 = 2250;\n",
    "const E26 = 2400;\n",
    "\n",
    "# Boltzmann distribution:\n",
    "const Q = exp(EG) + \n",
    "          exp(-E3/kBT) + \n",
    "          2*exp(-E6/kBT) + \n",
    "          exp(-E23/kBT) + \n",
    "          exp(-E36/kBT) + \n",
    "          exp(-E26/kBT);\n",
    "const f_G = exp(EG)/Q;\n",
    "const f_3 = exp(-E3/kBT)/Q;\n",
    "const f_6 = 2*exp(-E6/kBT)/Q; # factor of 2: double degeneracy of V_6\n",
    "const f_23 = exp(-E23/kBT)/Q;\n",
    "const f_36 = exp(-E36/kBT)/Q;\n",
    "const f_26 = exp(-E26/kBT)/Q;\n",
    "\n",
    "const C3L = 0.005926302;  # degeneracy included. Feb 7th 2015 email from Henry.\n",
    "const C4L = 0.007374597;\n",
    "const C5L = 0.008652703;\n",
    "const C4U = C4L;\n",
    "const C5U = C5L;\n",
    "\n",
    "const g_L = 9.0;\n",
    "const g_U = 11.0;\n",
    "\n",
    "const NA = 6.0221413e23;\n",
    "\n",
    "##################### frequency constants ############################\n",
    "const f₀ = 31.042748176e12; # in Hz. Data from Laser Line Number.pptx\n",
    "const f_offset = 30e6;\n",
    "const f_pump = f₀ + f_offset;\n",
    "const f_dir_lasing = 245.38e9;\n",
    "const f_ref_lasing = 248.56e9;\n",
    "const Δ_f₀D = 3.58e-7*f₀*sqrt(T/M); # in Hz. p26 Henry's dissetation;\n",
    "\n",
    "const f_range = 5*Δ_f₀D;\n",
    "\n",
    "const n_rot = 18;\n",
    "const n_vib = 12;\n",
    "\n",
    "const mu0 = 4e-7*pi\n",
    "const eps0 = 8.85e-12\n",
    "const mode_num = 1 # 1: TE01 / 2: TE12 / 3: TE02 / 4: TE22 / 5: TE11 / 6: TE21 / 7: TM01 / 8: TM11\n",
    "const p_library = [3.83, 5.33, 7.02, 6.71, 1.84, 3.05, 2.4, 3.83] #zeros of Bessel functions.\n",
    "const n0 = 1.0 # refractive index\n",
    "const t_spont = 100\n",
    "const Δν_THz = 25e6 ;"
   ]
  },
  {
   "cell_type": "markdown",
   "metadata": {},
   "source": [
    "## define parameter type"
   ]
  },
  {
   "cell_type": "code",
   "execution_count": 3,
   "metadata": {
    "collapsed": false
   },
   "outputs": [
    {
     "name": "stderr",
     "output_type": "stream",
     "text": [
      " in depwarn at deprecated.jl:73\n",
      " in call at deprecated.jl:50\n",
      " in include at ./boot.jl:261\n",
      " in include_from_node1 at ./loading.jl:304\n",
      " in include at ./boot.jl:261\n",
      " in include_from_node1 at ./loading.jl:304\n",
      " in include at ./boot.jl:261\n",
      " in include_from_node1 at ./loading.jl:304\n",
      " in require at ./loading.jl:243\n",
      " in include_string at loading.jl:266\n",
      " in execute_request_0x535c5df2 at /Users/Fan/.julia/v0.4/IJulia/src/execute_request.jl:177\n",
      " in eventloop at /Users/Fan/.julia/v0.4/IJulia/src/IJulia.jl:141\n",
      " in anonymous at task.jl:447\n",
      "while loading /Users/Fan/.julia/v0.4/Interact/src/IJulia/statedict.jl, in expression starting on line 1\n"
     ]
    }
   ],
   "source": [
    "type parameter\n",
    "    pressure::Real\n",
    "    power::Real\n",
    "    num_layers::Int64\n",
    "    \n",
    "    ntotal::Real\n",
    "    k63::Real\n",
    "    k36::Real\n",
    "    k3623::Real\n",
    "    k2336::Real\n",
    "    k2636::Real\n",
    "    k3626::Real\n",
    "    kro::Real\n",
    "\n",
    "    Δ_fP::Real\n",
    "    Δ_f_Rabi::Real\n",
    "    Δ_f_NT::Real\n",
    "    \n",
    "    num_freq::Int64\n",
    "    df::Real\n",
    "    f_dist_end::Array\n",
    "    f_dist_ctr::Array\n",
    "    velocity::Array\n",
    "    f_dist_dir_lasing::Array\n",
    "    gauss_dist::Array\n",
    "    SHB::Array\n",
    "    fp_lasing::Array\n",
    "    pumpR::Array\n",
    "\n",
    "    Δr::Real\n",
    "    r_int::Array\n",
    "\n",
    "    kwall::Array\n",
    "    \n",
    "    MFP::Real\n",
    "\n",
    "    D::Real\n",
    "\n",
    "    k98_G::Real\n",
    "    k87_G::Real\n",
    "    k76_G::Real\n",
    "    k65_G::Real\n",
    "    k54_G::Real\n",
    "    k43_G::Real\n",
    "    k32_G::Real\n",
    "    k21_G::Real\n",
    "    \n",
    "    k89_G::Real\n",
    "    k78_G::Real\n",
    "    k67_G::Real\n",
    "    k56_G::Real\n",
    "    k45_G::Real\n",
    "    k34_G::Real\n",
    "    k23_G::Real\n",
    "    k12_G::Real\n",
    "\n",
    "    k98_3::Real\n",
    "    k87_3::Real\n",
    "    k76_3::Real\n",
    "    k65_3::Real\n",
    "    k54_3::Real\n",
    "    k43_3::Real\n",
    "    k32_3::Real\n",
    "    k21_3::Real\n",
    "    \n",
    "    k89_3::Real\n",
    "    k78_3::Real\n",
    "    k67_3::Real\n",
    "    k56_3::Real\n",
    "    k45_3::Real\n",
    "    k34_3::Real\n",
    "    k23_3::Real\n",
    "    k12_3::Real\n",
    "    \n",
    "    k1a::Real\n",
    "    k2a::Real\n",
    "    k3a::Real\n",
    "    k4a::Real\n",
    "    k5a::Real\n",
    "    k6a::Real\n",
    "    k7a::Real\n",
    "    k8a::Real\n",
    "    k9a::Real\n",
    "    k10a::Real\n",
    "    k11a::Real\n",
    "    k12a::Real\n",
    "    k13a::Real\n",
    "    k14a::Real\n",
    "    k15a::Real\n",
    "    k16a::Real\n",
    "    k17a::Real\n",
    "    k18a::Real\n",
    "\n",
    "    niter::Int64\n",
    "end"
   ]
  },
  {
   "cell_type": "markdown",
   "metadata": {},
   "source": [
    "### wall rate functions"
   ]
  },
  {
   "cell_type": "code",
   "execution_count": 157,
   "metadata": {
    "collapsed": false
   },
   "outputs": [
    {
     "data": {
      "text/plain": [
       "SM_solve (generic function with 1 method)"
      ]
     },
     "execution_count": 157,
     "metadata": {},
     "output_type": "execute_result"
    }
   ],
   "source": [
    "include(\"wallrates.jl\")\n",
    "include(\"Lorentz_distribution.jl\")\n",
    "include(\"Q_select.jl\")\n",
    "include(\"OPFIR_compute_parameters.jl\")\n",
    "include(\"OPFIR_compute_rhs.jl\")\n",
    "include(\"OPFIR_compute_row_col_val.jl\")\n",
    "include(\"OPFIR_fixedpoint.jl\")\n",
    "include(\"anderson_accel.jl\")\n",
    "include(\"OPFIR_func.jl\")\n",
    "include(\"post_plotting.jl\")\n",
    "include(\"post_gain.jl\")\n",
    "include(\"population_inv.jl\")\n",
    "include(\"Sherman_Morrison.jl\")"
   ]
  },
  {
   "cell_type": "code",
   "execution_count": 158,
   "metadata": {
    "collapsed": false
   },
   "outputs": [
    {
     "name": "stdout",
     "output_type": "stream",
     "text": [
      "matrix size is 391200\n",
      "norm of sol diff = 1.0\n",
      "norm of sol diff = 2.6404881642825196e-5\n",
      "norm of sol diff = 3.3412088603850445e-6\n",
      "norm of sol diff = 1.0162388194858507e-7\n",
      "[6.087675652272329e-5]\n"
     ]
    }
   ],
   "source": [
    "pressure_list = [200]; # in mTorr;\n",
    "power = 10;\n",
    "num_layer = 50;\n",
    "U_gain = zeros(size(pressure_list))\n",
    "for i in 1:length(pressure_list)\n",
    "    pressure = pressure_list[i]\n",
    "    sol = OPFIR_func(pressure, power, num_layer, 30);\n",
    "    U_gain[i] = OPFIR_gain(sol[1], sol[2])\n",
    "end\n",
    "println(U_gain)\n",
    "# post_plotting(sol[1], sol[2], sol[1].pressure, sol[1].power, 10);"
   ]
  },
  {
   "cell_type": "code",
   "execution_count": 151,
   "metadata": {
    "collapsed": false
   },
   "outputs": [
    {
     "data": {
      "text/plain": [
       "UMFPACK LU Factorization of a 4-by-4 sparse matrix\n",
       "Ptr{Void} @0x00007f8040678a40\n"
      ]
     },
     "execution_count": 151,
     "metadata": {},
     "output_type": "execute_result"
    }
   ],
   "source": [
    "a3 = lufact(A0)"
   ]
  },
  {
   "cell_type": "code",
   "execution_count": 152,
   "metadata": {
    "collapsed": false
   },
   "outputs": [
    {
     "data": {
      "text/plain": [
       "4x1 Array{Float64,2}:\n",
       " 1.26911 \n",
       " 1.0202  \n",
       " 0.719174\n",
       " 1.07513 "
      ]
     },
     "execution_count": 152,
     "metadata": {},
     "output_type": "execute_result"
    }
   ],
   "source": [
    "a3\\b"
   ]
  },
  {
   "cell_type": "code",
   "execution_count": null,
   "metadata": {
    "collapsed": false
   },
   "outputs": [],
   "source": [
    "include(\"population_inv.jl\")\n",
    "inv = zeros(sol[1].num_layers,1)\n",
    "for ri in 1:sol[1].num_layers\n",
    "    inv_U = get_inv_U(sol[1], sol[2], ri) # inversion as a function of velocity\n",
    "    inv[ri] = sum(inv_U .* sol[1].fp_lasing)\n",
    "end\n",
    "plot(inv)\n"
   ]
  },
  {
   "cell_type": "code",
   "execution_count": null,
   "metadata": {
    "collapsed": false
   },
   "outputs": [],
   "source": [
    "plot(sol[1].fp_lasing)"
   ]
  },
  {
   "cell_type": "code",
   "execution_count": null,
   "metadata": {
    "collapsed": false
   },
   "outputs": [],
   "source": [
    "include(\"post_plotting.jl\")\n",
    "figure(figsize=(16,10))\n",
    "post_plotting(sol[1], sol[2], sol[1].pressure, sol[1].power, 30)"
   ]
  },
  {
   "cell_type": "code",
   "execution_count": null,
   "metadata": {
    "collapsed": false
   },
   "outputs": [],
   "source": [
    "include(\"Wallrates.jl\")\n",
    "WallRate(radius, pressure, sol[1].r_int, sol[1].ntotal)"
   ]
  },
  {
   "cell_type": "code",
   "execution_count": null,
   "metadata": {
    "collapsed": false
   },
   "outputs": [],
   "source": [
    "sub_sum = zeros(sol[1].num_layers,1);\n",
    "solution = sol[2];\n",
    "ri = sol[1].r_int;\n",
    "for i = 1:sol[1].num_layers\n",
    "    index1 = (18*sol[1].num_freq + n_vib) * (i-1) + 1;\n",
    "    index2 = (18*sol[1].num_freq + n_vib) * i;\n",
    "    sub_sum[i] = sum(solution[index1:index2]) * ri[i];\n",
    "end\n",
    "sum((sub_sum))"
   ]
  },
  {
   "cell_type": "code",
   "execution_count": null,
   "metadata": {
    "collapsed": false
   },
   "outputs": [],
   "source": [
    "include(\"post_plotting.jl\")\n",
    "include(\"population_inv.jl\")\n",
    "figure(figsize=(6,4))\n",
    "hold\n",
    "plot_inv_U(sol[1], sol[2], 30)\n",
    "plot_inv_U(sol[1], sol[2], 1)\n",
    "plot_f0()\n",
    "legend([\"close to the wall\", \"away from the wall\"], fontsize=10)\n",
    "\n",
    "figure(figsize=(6,4))\n",
    "hold\n",
    "plot_inv_L(sol[1], sol[2], 30)\n",
    "plot_inv_L(sol[1], sol[2], 1)\n",
    "plot_f0()\n",
    "legend([\"close to the wall\", \"away from the wall\"], fontsize=10)"
   ]
  },
  {
   "cell_type": "code",
   "execution_count": null,
   "metadata": {
    "collapsed": false
   },
   "outputs": [],
   "source": [
    "include(\"population_inv.jl\")\n",
    "# 12 is U and 2 is L\n",
    "# plot(get_Nu_vs_freq_layer(sol[1], sol[2], 30))\n",
    "# hold\n",
    "# plot(get_rot_vs_freq_layer(sol[1], sol[2], 11, 30))\n",
    "freq = sol[1].f_dist_ctr;\n",
    "figure(figsize=(6,4))\n",
    "title(\"with bi-molecular collision, pressure = $pressure\")\n",
    "plot([f₀, f₀], [0, 1e15], \"r--\")\n",
    "hold\n",
    "plot([f_pump, f_pump], [0, 1e15], \"r--\")\n",
    "plot(freq, get_inv_U(sol[1], sol[2], 30))\n",
    "hold\n",
    "plot(freq, get_inv_U(sol[1], sol[2], 1))\n",
    "figure(figsize=(6,4))\n",
    "plot([f₀, f₀], [0, 1e15], \"r--\")\n",
    "hold\n",
    "plot([f_pump, f_pump], [0, 1e15], \"r--\")\n",
    "plot(freq, get_inv_L(sol[1], sol[2], 30))\n",
    "hold\n",
    "plot(freq, get_inv_L(sol[1], sol[2], 1))"
   ]
  },
  {
   "cell_type": "code",
   "execution_count": null,
   "metadata": {
    "collapsed": false,
    "scrolled": false
   },
   "outputs": [],
   "source": [
    "include(\"population_inv.jl\")\n",
    "# 12 is U and 2 is L\n",
    "# plot(get_Nu_vs_freq_layer(sol[1], sol[2], 30))\n",
    "# hold\n",
    "# plot(get_rot_vs_freq_layer(sol[1], sol[2], 11, 30))\n",
    "freq = sol[1].f_dist_ctr;\n",
    "figure(figsize=(6,4))\n",
    "title(\"with bi-molecular collision\")\n",
    "plot([f₀, f₀], [0, 1e15], \"r--\")\n",
    "hold\n",
    "plot([f_pump, f_pump], [0, 1e15], \"r--\")\n",
    "plot(freq, get_inv_U(sol[1], sol[2], 30))\n",
    "hold\n",
    "plot(freq, get_inv_U(sol[1], sol[2], 1))\n",
    "figure(figsize=(6,4))\n",
    "plot([f₀, f₀], [0, 1e15], \"r--\")\n",
    "hold\n",
    "plot([f_pump, f_pump], [0, 1e15], \"r--\")\n",
    "plot(freq, get_inv_L(sol[1], sol[2], 30))\n",
    "hold\n",
    "plot(freq, get_inv_L(sol[1], sol[2], 1))"
   ]
  },
  {
   "cell_type": "code",
   "execution_count": null,
   "metadata": {
    "collapsed": false
   },
   "outputs": [],
   "source": [
    "include(\"population_inv.jl\")"
   ]
  },
  {
   "cell_type": "code",
   "execution_count": null,
   "metadata": {
    "collapsed": false
   },
   "outputs": [],
   "source": [
    "plot(get_inv_L(sol[1], sol[2], 30))\n",
    "hold\n",
    "plot(get_inv_L(sol[1], sol[2], 1))"
   ]
  },
  {
   "cell_type": "code",
   "execution_count": null,
   "metadata": {
    "collapsed": false
   },
   "outputs": [],
   "source": [
    "sol[1].kwall"
   ]
  },
  {
   "cell_type": "code",
   "execution_count": null,
   "metadata": {
    "collapsed": false
   },
   "outputs": [],
   "source": [
    "include(\"post_plotting.jl\")\n",
    "figure(figsize=(6,4))\n",
    "plot_thermalpool_layer(sol[1], sol[2], sol[1].pressure, sol[1].power, 30)\n",
    "# figure(figsize=(6,4))\n",
    "# plot_U_vs_freq_layer(sol[1], sol[2], sol[1].pressure, sol[1].power, 30)"
   ]
  },
  {
   "cell_type": "code",
   "execution_count": null,
   "metadata": {
    "collapsed": false
   },
   "outputs": [],
   "source": [
    "include(\"OPFIR_compute_parameters.jl\")\n",
    "para = OPFIR_compute_parameters(200, 10, 2);"
   ]
  },
  {
   "cell_type": "code",
   "execution_count": null,
   "metadata": {
    "collapsed": false
   },
   "outputs": [],
   "source": [
    "layer_unknown = n_rot*para.num_freq + n_vib\n",
    "sol_0 = zeros(para.num_layers * layer_unknown);\n",
    "    \n",
    "max_ele = para.num_freq * para.num_layers * (n_rot*(n_rot+2) + n_vib*(n_rot+n_vib+2))\n",
    "\n",
    "\n",
    "rowind = ones(Int64,max_ele)\n",
    "colind = ones(Int64,max_ele)\n",
    "value = zeros(max_ele)\n",
    "rhs = zeros(para.num_layers*layer_unknown);\n",
    "OPFIR_compute_row_col_val(rowind, colind, value, para, sol_0)\n",
    "\n",
    "matrix = sparse(rowind, colind, value)\n",
    "\n",
    "for j = 1:size(matrix,1)\n",
    "        matrix[1,j] = 0;\n",
    "        matrix[end,j] = 0;\n",
    "end\n",
    "\n",
    "for j = 1:para.num_layers\n",
    "    index1::Int64 = layer_unknown * (j-1) + 1\n",
    "    index2::Int64 = layer_unknown * j\n",
    "    matrix[1, index1:index2] = para.r_int[j]\n",
    "    ind_0E::Int64 = layer_unknown * j - n_vib + 7;\n",
    "    ind_3E::Int64 = layer_unknown * j - n_vib + 8;\n",
    "    matrix[end, ind_0E] = para.r_int[j]\n",
    "    matrix[end, ind_3E] = -para.r_int[j]\n",
    "end\n",
    ";"
   ]
  },
  {
   "cell_type": "code",
   "execution_count": null,
   "metadata": {
    "collapsed": false
   },
   "outputs": [],
   "source": [
    "sol[1].num_freq"
   ]
  },
  {
   "cell_type": "code",
   "execution_count": 121,
   "metadata": {
    "collapsed": false
   },
   "outputs": [
    {
     "data": {
      "text/plain": [
       "4x1 Array{Float64,2}:\n",
       " 0.908386\n",
       " 0.900513\n",
       " 0.633175\n",
       " 0.537565"
      ]
     },
     "execution_count": 121,
     "metadata": {},
     "output_type": "execute_result"
    }
   ],
   "source": [
    "A0 = sparse([1, 1, 2, 3, 4], [1, 2, 2, 3,4], [0.527264,  0.234496,  0.882686,  0.88042, 0.5])\n",
    "b = rand(4,1)"
   ]
  },
  {
   "cell_type": "code",
   "execution_count": 86,
   "metadata": {
    "collapsed": false
   },
   "outputs": [
    {
     "data": {
      "text/plain": [
       "4x4 Array{Float64,2}:\n",
       " 0.527264  0.234496  0.0      0.0\n",
       " 0.0       0.882686  0.0      0.0\n",
       " 0.0       0.0       0.88042  0.0\n",
       " 0.0       0.0       0.0      0.5"
      ]
     },
     "execution_count": 86,
     "metadata": {},
     "output_type": "execute_result"
    }
   ],
   "source": [
    "full(A0)"
   ]
  },
  {
   "cell_type": "code",
   "execution_count": 53,
   "metadata": {
    "collapsed": false
   },
   "outputs": [
    {
     "data": {
      "text/plain": [
       "1.0"
      ]
     },
     "execution_count": 53,
     "metadata": {},
     "output_type": "execute_result"
    }
   ],
   "source": [
    "n = size(A0, 1)\n",
    "rank = 1\n",
    "row_ind = 3\n",
    "A1 = A0\n",
    "if rank==1\n",
    "    u = zeros(n,1)\n",
    "    u[row_ind] = 1.0\n",
    "    vv = A0[row_ind, :]\n",
    "    vv[row_ind] -= 1.0\n",
    "    A1[row_ind, :] = 0.0\n",
    "    A1[row_ind, row_ind] = 1.0\n",
    "end"
   ]
  },
  {
   "cell_type": "code",
   "execution_count": 54,
   "metadata": {
    "collapsed": false
   },
   "outputs": [
    {
     "data": {
      "text/plain": [
       "true"
      ]
     },
     "execution_count": 54,
     "metadata": {},
     "output_type": "execute_result"
    }
   ],
   "source": [
    "issparse(A1)"
   ]
  },
  {
   "cell_type": "code",
   "execution_count": 57,
   "metadata": {
    "collapsed": false
   },
   "outputs": [
    {
     "data": {
      "text/plain": [
       "4x4 Array{Float64,2}:\n",
       " 0.527264  0.234496  0.0  0.0    \n",
       " 0.0       0.882686  0.0  0.0    \n",
       " 0.0       0.0       0.0  0.88042\n",
       " 0.0       0.0       0.5  0.0    "
      ]
     },
     "execution_count": 57,
     "metadata": {},
     "output_type": "execute_result"
    }
   ],
   "source": [
    "u*vv + A1"
   ]
  },
  {
   "cell_type": "code",
   "execution_count": 84,
   "metadata": {
    "collapsed": false
   },
   "outputs": [
    {
     "data": {
      "text/plain": [
       "4x4 Array{Float64,2}:\n",
       " 0.527264  0.234496  0.0  0.0\n",
       " 0.0       0.882686  0.0  0.0\n",
       " 0.0       0.0       1.0  0.0\n",
       " 0.0       0.0       0.0  0.5"
      ]
     },
     "execution_count": 84,
     "metadata": {},
     "output_type": "execute_result"
    }
   ],
   "source": [
    "full(A0)"
   ]
  },
  {
   "cell_type": "code",
   "execution_count": 139,
   "metadata": {
    "collapsed": false
   },
   "outputs": [
    {
     "data": {
      "text/plain": [
       "4x1 Array{Float64,2}:\n",
       " 1.26911 \n",
       " 1.0202  \n",
       " 0.719174\n",
       " 1.07513 "
      ]
     },
     "execution_count": 139,
     "metadata": {},
     "output_type": "execute_result"
    }
   ],
   "source": [
    "A0\\b"
   ]
  },
  {
   "cell_type": "code",
   "execution_count": 138,
   "metadata": {
    "collapsed": false
   },
   "outputs": [
    {
     "data": {
      "text/plain": [
       "4x1 Array{Float64,2}:\n",
       " 1.26911 \n",
       " 1.0202  \n",
       " 0.719174\n",
       " 1.07513 "
      ]
     },
     "execution_count": 138,
     "metadata": {},
     "output_type": "execute_result"
    }
   ],
   "source": [
    "include(\"Sherman_Morrison.jl\")\n",
    "SM_solve(A0, 2, [2,1], b)"
   ]
  },
  {
   "cell_type": "code",
   "execution_count": 130,
   "metadata": {
    "collapsed": false
   },
   "outputs": [
    {
     "data": {
      "text/plain": [
       "4x4 Array{Float64,2}:\n",
       " 0.527264  0.234496  0.0      0.0\n",
       " 0.0       0.882686  0.0      0.0\n",
       " 0.0       0.0       0.88042  0.0\n",
       " 0.0       0.0       0.0      0.5"
      ]
     },
     "execution_count": 130,
     "metadata": {},
     "output_type": "execute_result"
    }
   ],
   "source": [
    "full(A0)"
   ]
  },
  {
   "cell_type": "code",
   "execution_count": null,
   "metadata": {
    "collapsed": true
   },
   "outputs": [],
   "source": []
  }
 ],
 "metadata": {
  "kernelspec": {
   "display_name": "Julia 0.4.1-pre",
   "language": "julia",
   "name": "julia-0.4"
  },
  "language_info": {
   "file_extension": ".jl",
   "mimetype": "application/julia",
   "name": "julia",
   "version": "0.4.1"
  }
 },
 "nbformat": 4,
 "nbformat_minor": 0
}
